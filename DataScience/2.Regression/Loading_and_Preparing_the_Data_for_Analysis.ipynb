{
  "nbformat": 4,
  "nbformat_minor": 0,
  "metadata": {
    "colab": {
      "name": "Loading and Preparing the Data for Analysis.ipynb",
      "provenance": [],
      "collapsed_sections": [],
      "authorship_tag": "ABX9TyPziBIQeEUQA2UNEf8wvPrM",
      "include_colab_link": true
    },
    "kernelspec": {
      "name": "python3",
      "display_name": "Python 3"
    }
  },
  "cells": [
    {
      "cell_type": "markdown",
      "metadata": {
        "id": "view-in-github",
        "colab_type": "text"
      },
      "source": [
        "<a href=\"https://colab.research.google.com/github/thientvse/Packt-Workshop/blob/master/DataScience/2.Regression/Loading_and_Preparing_the_Data_for_Analysis.ipynb\" target=\"_parent\"><img src=\"https://colab.research.google.com/assets/colab-badge.svg\" alt=\"Open In Colab\"/></a>"
      ]
    },
    {
      "cell_type": "code",
      "metadata": {
        "id": "W_XgsAqXTgjp",
        "colab_type": "code",
        "colab": {
          "base_uri": "https://localhost:8080/",
          "height": 51
        },
        "outputId": "4c2518b7-676d-4e2f-dff5-70ce6c518603"
      },
      "source": [
        "%matplotlib inline \n",
        "import matplotlib as mpl \n",
        "import seaborn as sns \n",
        "import matplotlib.pyplot as plt \n",
        "import statsmodels.formula.api as smf \n",
        "import statsmodels.graphics.api as smg \n",
        "import pandas as pd \n",
        "import numpy as np \n",
        "import patsy \n",
        "from statsmodels.graphics.correlation import plot_corr \n",
        "from sklearn.model_selection import train_test_split \n",
        "plt.style.use('seaborn') "
      ],
      "execution_count": 1,
      "outputs": [
        {
          "output_type": "stream",
          "text": [
            "/usr/local/lib/python3.6/dist-packages/statsmodels/tools/_testing.py:19: FutureWarning: pandas.util.testing is deprecated. Use the functions in the public API at pandas.testing instead.\n",
            "  import pandas.util.testing as tm\n"
          ],
          "name": "stderr"
        }
      ]
    },
    {
      "cell_type": "code",
      "metadata": {
        "id": "ikWbanTETzix",
        "colab_type": "code",
        "colab": {}
      },
      "source": [
        "rawBostonData = pd.read_csv('https://raw.githubusercontent.com/PacktWorkshops/The-Data-Science-Workshop/master/Chapter02/Dataset/Boston.csv')"
      ],
      "execution_count": 0,
      "outputs": []
    },
    {
      "cell_type": "code",
      "metadata": {
        "id": "C0LGyyKmT1mu",
        "colab_type": "code",
        "colab": {
          "base_uri": "https://localhost:8080/",
          "height": 204
        },
        "outputId": "2a196d0e-3b5b-48a1-9107-4417cb34db57"
      },
      "source": [
        "rawBostonData.head()"
      ],
      "execution_count": 3,
      "outputs": [
        {
          "output_type": "execute_result",
          "data": {
            "text/html": [
              "<div>\n",
              "<style scoped>\n",
              "    .dataframe tbody tr th:only-of-type {\n",
              "        vertical-align: middle;\n",
              "    }\n",
              "\n",
              "    .dataframe tbody tr th {\n",
              "        vertical-align: top;\n",
              "    }\n",
              "\n",
              "    .dataframe thead th {\n",
              "        text-align: right;\n",
              "    }\n",
              "</style>\n",
              "<table border=\"1\" class=\"dataframe\">\n",
              "  <thead>\n",
              "    <tr style=\"text-align: right;\">\n",
              "      <th></th>\n",
              "      <th>CRIM</th>\n",
              "      <th>ZN</th>\n",
              "      <th>INDUS</th>\n",
              "      <th>CHAS</th>\n",
              "      <th>NOX</th>\n",
              "      <th>RM</th>\n",
              "      <th>AGE</th>\n",
              "      <th>DIS</th>\n",
              "      <th>RAD</th>\n",
              "      <th>TAX</th>\n",
              "      <th>PTRATIO</th>\n",
              "      <th>LSTAT</th>\n",
              "      <th>MEDV</th>\n",
              "    </tr>\n",
              "  </thead>\n",
              "  <tbody>\n",
              "    <tr>\n",
              "      <th>0</th>\n",
              "      <td>0.00632</td>\n",
              "      <td>18.0</td>\n",
              "      <td>2.31</td>\n",
              "      <td>0</td>\n",
              "      <td>0.538</td>\n",
              "      <td>6.575</td>\n",
              "      <td>65.2</td>\n",
              "      <td>4.0900</td>\n",
              "      <td>1</td>\n",
              "      <td>296</td>\n",
              "      <td>15.3</td>\n",
              "      <td>4.98</td>\n",
              "      <td>24.0</td>\n",
              "    </tr>\n",
              "    <tr>\n",
              "      <th>1</th>\n",
              "      <td>0.02731</td>\n",
              "      <td>0.0</td>\n",
              "      <td>7.07</td>\n",
              "      <td>0</td>\n",
              "      <td>0.469</td>\n",
              "      <td>6.421</td>\n",
              "      <td>78.9</td>\n",
              "      <td>4.9671</td>\n",
              "      <td>2</td>\n",
              "      <td>242</td>\n",
              "      <td>17.8</td>\n",
              "      <td>9.14</td>\n",
              "      <td>21.6</td>\n",
              "    </tr>\n",
              "    <tr>\n",
              "      <th>2</th>\n",
              "      <td>0.02729</td>\n",
              "      <td>0.0</td>\n",
              "      <td>7.07</td>\n",
              "      <td>0</td>\n",
              "      <td>0.469</td>\n",
              "      <td>7.185</td>\n",
              "      <td>61.1</td>\n",
              "      <td>4.9671</td>\n",
              "      <td>2</td>\n",
              "      <td>242</td>\n",
              "      <td>17.8</td>\n",
              "      <td>4.03</td>\n",
              "      <td>34.7</td>\n",
              "    </tr>\n",
              "    <tr>\n",
              "      <th>3</th>\n",
              "      <td>0.03237</td>\n",
              "      <td>0.0</td>\n",
              "      <td>2.18</td>\n",
              "      <td>0</td>\n",
              "      <td>0.458</td>\n",
              "      <td>6.998</td>\n",
              "      <td>45.8</td>\n",
              "      <td>6.0622</td>\n",
              "      <td>3</td>\n",
              "      <td>222</td>\n",
              "      <td>18.7</td>\n",
              "      <td>2.94</td>\n",
              "      <td>33.4</td>\n",
              "    </tr>\n",
              "    <tr>\n",
              "      <th>4</th>\n",
              "      <td>0.06905</td>\n",
              "      <td>0.0</td>\n",
              "      <td>2.18</td>\n",
              "      <td>0</td>\n",
              "      <td>0.458</td>\n",
              "      <td>7.147</td>\n",
              "      <td>54.2</td>\n",
              "      <td>6.0622</td>\n",
              "      <td>3</td>\n",
              "      <td>222</td>\n",
              "      <td>18.7</td>\n",
              "      <td>5.33</td>\n",
              "      <td>36.2</td>\n",
              "    </tr>\n",
              "  </tbody>\n",
              "</table>\n",
              "</div>"
            ],
            "text/plain": [
              "      CRIM   ZN   INDUS   CHAS    NOX  ...  RAD  TAX  PTRATIO  LSTAT  MEDV\n",
              "0  0.00632  18.0    2.31     0  0.538  ...    1  296     15.3   4.98  24.0\n",
              "1  0.02731   0.0    7.07     0  0.469  ...    2  242     17.8   9.14  21.6\n",
              "2  0.02729   0.0    7.07     0  0.469  ...    2  242     17.8   4.03  34.7\n",
              "3  0.03237   0.0    2.18     0  0.458  ...    3  222     18.7   2.94  33.4\n",
              "4  0.06905   0.0    2.18     0  0.458  ...    3  222     18.7   5.33  36.2\n",
              "\n",
              "[5 rows x 13 columns]"
            ]
          },
          "metadata": {
            "tags": []
          },
          "execution_count": 3
        }
      ]
    },
    {
      "cell_type": "code",
      "metadata": {
        "id": "yoqsYTJsUFnG",
        "colab_type": "code",
        "colab": {}
      },
      "source": [
        "rawBostonData = rawBostonData.dropna()"
      ],
      "execution_count": 0,
      "outputs": []
    },
    {
      "cell_type": "code",
      "metadata": {
        "id": "JRfb-LMxUI2P",
        "colab_type": "code",
        "colab": {}
      },
      "source": [
        "rawBostonData = rawBostonData.drop_duplicates()"
      ],
      "execution_count": 0,
      "outputs": []
    },
    {
      "cell_type": "code",
      "metadata": {
        "id": "um6vASI7ULKm",
        "colab_type": "code",
        "colab": {
          "base_uri": "https://localhost:8080/",
          "height": 238
        },
        "outputId": "93c0154e-85f4-46bc-892c-153918832a77"
      },
      "source": [
        "list(rawBostonData.columns)"
      ],
      "execution_count": 6,
      "outputs": [
        {
          "output_type": "execute_result",
          "data": {
            "text/plain": [
              "['CRIM',\n",
              " ' ZN ',\n",
              " 'INDUS ',\n",
              " 'CHAS',\n",
              " 'NOX',\n",
              " 'RM',\n",
              " 'AGE',\n",
              " 'DIS',\n",
              " 'RAD',\n",
              " 'TAX',\n",
              " 'PTRATIO',\n",
              " 'LSTAT',\n",
              " 'MEDV']"
            ]
          },
          "metadata": {
            "tags": []
          },
          "execution_count": 6
        }
      ]
    },
    {
      "cell_type": "code",
      "metadata": {
        "id": "duqF2bORUR3X",
        "colab_type": "code",
        "colab": {
          "base_uri": "https://localhost:8080/",
          "height": 241
        },
        "outputId": "299d21bf-cbbb-46bd-b6e2-01e57d67ed6e"
      },
      "source": [
        "renamedBostonData = rawBostonData.rename(columns = {'CRIM':'crimeRatePerCapita', \n",
        " ' ZN ':'landOver25K_sqft', \n",
        " 'INDUS ':'non-retailLandProptn', \n",
        " 'CHAS':'riverDummy', \n",
        " 'NOX':'nitrixOxide_pp10m', \n",
        " 'RM':'AvgNo.RoomsPerDwelling', \n",
        " 'AGE':'ProptnOwnerOccupied', \n",
        " 'DIS':'weightedDist', \n",
        " 'RAD':'radialHighwaysAccess', \n",
        " 'TAX':'propTaxRate_per10K', \n",
        " 'PTRATIO':'pupilTeacherRatio', \n",
        " 'LSTAT':'pctLowerStatus', \n",
        " 'MEDV':'medianValue_Ks'}) \n",
        "renamedBostonData.head() "
      ],
      "execution_count": 7,
      "outputs": [
        {
          "output_type": "execute_result",
          "data": {
            "text/html": [
              "<div>\n",
              "<style scoped>\n",
              "    .dataframe tbody tr th:only-of-type {\n",
              "        vertical-align: middle;\n",
              "    }\n",
              "\n",
              "    .dataframe tbody tr th {\n",
              "        vertical-align: top;\n",
              "    }\n",
              "\n",
              "    .dataframe thead th {\n",
              "        text-align: right;\n",
              "    }\n",
              "</style>\n",
              "<table border=\"1\" class=\"dataframe\">\n",
              "  <thead>\n",
              "    <tr style=\"text-align: right;\">\n",
              "      <th></th>\n",
              "      <th>crimeRatePerCapita</th>\n",
              "      <th>landOver25K_sqft</th>\n",
              "      <th>non-retailLandProptn</th>\n",
              "      <th>riverDummy</th>\n",
              "      <th>nitrixOxide_pp10m</th>\n",
              "      <th>AvgNo.RoomsPerDwelling</th>\n",
              "      <th>ProptnOwnerOccupied</th>\n",
              "      <th>weightedDist</th>\n",
              "      <th>radialHighwaysAccess</th>\n",
              "      <th>propTaxRate_per10K</th>\n",
              "      <th>pupilTeacherRatio</th>\n",
              "      <th>pctLowerStatus</th>\n",
              "      <th>medianValue_Ks</th>\n",
              "    </tr>\n",
              "  </thead>\n",
              "  <tbody>\n",
              "    <tr>\n",
              "      <th>0</th>\n",
              "      <td>0.00632</td>\n",
              "      <td>18.0</td>\n",
              "      <td>2.31</td>\n",
              "      <td>0</td>\n",
              "      <td>0.538</td>\n",
              "      <td>6.575</td>\n",
              "      <td>65.2</td>\n",
              "      <td>4.0900</td>\n",
              "      <td>1</td>\n",
              "      <td>296</td>\n",
              "      <td>15.3</td>\n",
              "      <td>4.98</td>\n",
              "      <td>24.0</td>\n",
              "    </tr>\n",
              "    <tr>\n",
              "      <th>1</th>\n",
              "      <td>0.02731</td>\n",
              "      <td>0.0</td>\n",
              "      <td>7.07</td>\n",
              "      <td>0</td>\n",
              "      <td>0.469</td>\n",
              "      <td>6.421</td>\n",
              "      <td>78.9</td>\n",
              "      <td>4.9671</td>\n",
              "      <td>2</td>\n",
              "      <td>242</td>\n",
              "      <td>17.8</td>\n",
              "      <td>9.14</td>\n",
              "      <td>21.6</td>\n",
              "    </tr>\n",
              "    <tr>\n",
              "      <th>2</th>\n",
              "      <td>0.02729</td>\n",
              "      <td>0.0</td>\n",
              "      <td>7.07</td>\n",
              "      <td>0</td>\n",
              "      <td>0.469</td>\n",
              "      <td>7.185</td>\n",
              "      <td>61.1</td>\n",
              "      <td>4.9671</td>\n",
              "      <td>2</td>\n",
              "      <td>242</td>\n",
              "      <td>17.8</td>\n",
              "      <td>4.03</td>\n",
              "      <td>34.7</td>\n",
              "    </tr>\n",
              "    <tr>\n",
              "      <th>3</th>\n",
              "      <td>0.03237</td>\n",
              "      <td>0.0</td>\n",
              "      <td>2.18</td>\n",
              "      <td>0</td>\n",
              "      <td>0.458</td>\n",
              "      <td>6.998</td>\n",
              "      <td>45.8</td>\n",
              "      <td>6.0622</td>\n",
              "      <td>3</td>\n",
              "      <td>222</td>\n",
              "      <td>18.7</td>\n",
              "      <td>2.94</td>\n",
              "      <td>33.4</td>\n",
              "    </tr>\n",
              "    <tr>\n",
              "      <th>4</th>\n",
              "      <td>0.06905</td>\n",
              "      <td>0.0</td>\n",
              "      <td>2.18</td>\n",
              "      <td>0</td>\n",
              "      <td>0.458</td>\n",
              "      <td>7.147</td>\n",
              "      <td>54.2</td>\n",
              "      <td>6.0622</td>\n",
              "      <td>3</td>\n",
              "      <td>222</td>\n",
              "      <td>18.7</td>\n",
              "      <td>5.33</td>\n",
              "      <td>36.2</td>\n",
              "    </tr>\n",
              "  </tbody>\n",
              "</table>\n",
              "</div>"
            ],
            "text/plain": [
              "   crimeRatePerCapita  landOver25K_sqft  ...  pctLowerStatus  medianValue_Ks\n",
              "0             0.00632              18.0  ...            4.98            24.0\n",
              "1             0.02731               0.0  ...            9.14            21.6\n",
              "2             0.02729               0.0  ...            4.03            34.7\n",
              "3             0.03237               0.0  ...            2.94            33.4\n",
              "4             0.06905               0.0  ...            5.33            36.2\n",
              "\n",
              "[5 rows x 13 columns]"
            ]
          },
          "metadata": {
            "tags": []
          },
          "execution_count": 7
        }
      ]
    },
    {
      "cell_type": "code",
      "metadata": {
        "id": "EvfWuhWjUVnP",
        "colab_type": "code",
        "colab": {
          "base_uri": "https://localhost:8080/",
          "height": 357
        },
        "outputId": "a1b1fb8d-cf2a-4843-bcb0-3f3afd1a049d"
      },
      "source": [
        "renamedBostonData.info()"
      ],
      "execution_count": 8,
      "outputs": [
        {
          "output_type": "stream",
          "text": [
            "<class 'pandas.core.frame.DataFrame'>\n",
            "Int64Index: 506 entries, 0 to 505\n",
            "Data columns (total 13 columns):\n",
            " #   Column                  Non-Null Count  Dtype  \n",
            "---  ------                  --------------  -----  \n",
            " 0   crimeRatePerCapita      506 non-null    float64\n",
            " 1   landOver25K_sqft        506 non-null    float64\n",
            " 2   non-retailLandProptn    506 non-null    float64\n",
            " 3   riverDummy              506 non-null    int64  \n",
            " 4   nitrixOxide_pp10m       506 non-null    float64\n",
            " 5   AvgNo.RoomsPerDwelling  506 non-null    float64\n",
            " 6   ProptnOwnerOccupied     506 non-null    float64\n",
            " 7   weightedDist            506 non-null    float64\n",
            " 8   radialHighwaysAccess    506 non-null    int64  \n",
            " 9   propTaxRate_per10K      506 non-null    int64  \n",
            " 10  pupilTeacherRatio       506 non-null    float64\n",
            " 11  pctLowerStatus          506 non-null    float64\n",
            " 12  medianValue_Ks          506 non-null    float64\n",
            "dtypes: float64(10), int64(3)\n",
            "memory usage: 55.3 KB\n"
          ],
          "name": "stdout"
        }
      ]
    },
    {
      "cell_type": "code",
      "metadata": {
        "id": "sSbCUS8wUYt-",
        "colab_type": "code",
        "colab": {
          "base_uri": "https://localhost:8080/",
          "height": 452
        },
        "outputId": "35824034-1906-4eef-bfba-cfdcbef7348f"
      },
      "source": [
        "renamedBostonData.describe(include=[np.number]).T"
      ],
      "execution_count": 9,
      "outputs": [
        {
          "output_type": "execute_result",
          "data": {
            "text/html": [
              "<div>\n",
              "<style scoped>\n",
              "    .dataframe tbody tr th:only-of-type {\n",
              "        vertical-align: middle;\n",
              "    }\n",
              "\n",
              "    .dataframe tbody tr th {\n",
              "        vertical-align: top;\n",
              "    }\n",
              "\n",
              "    .dataframe thead th {\n",
              "        text-align: right;\n",
              "    }\n",
              "</style>\n",
              "<table border=\"1\" class=\"dataframe\">\n",
              "  <thead>\n",
              "    <tr style=\"text-align: right;\">\n",
              "      <th></th>\n",
              "      <th>count</th>\n",
              "      <th>mean</th>\n",
              "      <th>std</th>\n",
              "      <th>min</th>\n",
              "      <th>25%</th>\n",
              "      <th>50%</th>\n",
              "      <th>75%</th>\n",
              "      <th>max</th>\n",
              "    </tr>\n",
              "  </thead>\n",
              "  <tbody>\n",
              "    <tr>\n",
              "      <th>crimeRatePerCapita</th>\n",
              "      <td>506.0</td>\n",
              "      <td>3.613524</td>\n",
              "      <td>8.601545</td>\n",
              "      <td>0.00632</td>\n",
              "      <td>0.082045</td>\n",
              "      <td>0.25651</td>\n",
              "      <td>3.677082</td>\n",
              "      <td>88.9762</td>\n",
              "    </tr>\n",
              "    <tr>\n",
              "      <th>landOver25K_sqft</th>\n",
              "      <td>506.0</td>\n",
              "      <td>11.363636</td>\n",
              "      <td>23.322453</td>\n",
              "      <td>0.00000</td>\n",
              "      <td>0.000000</td>\n",
              "      <td>0.00000</td>\n",
              "      <td>12.500000</td>\n",
              "      <td>100.0000</td>\n",
              "    </tr>\n",
              "    <tr>\n",
              "      <th>non-retailLandProptn</th>\n",
              "      <td>506.0</td>\n",
              "      <td>11.136779</td>\n",
              "      <td>6.860353</td>\n",
              "      <td>0.46000</td>\n",
              "      <td>5.190000</td>\n",
              "      <td>9.69000</td>\n",
              "      <td>18.100000</td>\n",
              "      <td>27.7400</td>\n",
              "    </tr>\n",
              "    <tr>\n",
              "      <th>riverDummy</th>\n",
              "      <td>506.0</td>\n",
              "      <td>0.069170</td>\n",
              "      <td>0.253994</td>\n",
              "      <td>0.00000</td>\n",
              "      <td>0.000000</td>\n",
              "      <td>0.00000</td>\n",
              "      <td>0.000000</td>\n",
              "      <td>1.0000</td>\n",
              "    </tr>\n",
              "    <tr>\n",
              "      <th>nitrixOxide_pp10m</th>\n",
              "      <td>506.0</td>\n",
              "      <td>0.554695</td>\n",
              "      <td>0.115878</td>\n",
              "      <td>0.38500</td>\n",
              "      <td>0.449000</td>\n",
              "      <td>0.53800</td>\n",
              "      <td>0.624000</td>\n",
              "      <td>0.8710</td>\n",
              "    </tr>\n",
              "    <tr>\n",
              "      <th>AvgNo.RoomsPerDwelling</th>\n",
              "      <td>506.0</td>\n",
              "      <td>6.284634</td>\n",
              "      <td>0.702617</td>\n",
              "      <td>3.56100</td>\n",
              "      <td>5.885500</td>\n",
              "      <td>6.20850</td>\n",
              "      <td>6.623500</td>\n",
              "      <td>8.7800</td>\n",
              "    </tr>\n",
              "    <tr>\n",
              "      <th>ProptnOwnerOccupied</th>\n",
              "      <td>506.0</td>\n",
              "      <td>68.574901</td>\n",
              "      <td>28.148861</td>\n",
              "      <td>2.90000</td>\n",
              "      <td>45.025000</td>\n",
              "      <td>77.50000</td>\n",
              "      <td>94.075000</td>\n",
              "      <td>100.0000</td>\n",
              "    </tr>\n",
              "    <tr>\n",
              "      <th>weightedDist</th>\n",
              "      <td>506.0</td>\n",
              "      <td>3.795043</td>\n",
              "      <td>2.105710</td>\n",
              "      <td>1.12960</td>\n",
              "      <td>2.100175</td>\n",
              "      <td>3.20745</td>\n",
              "      <td>5.188425</td>\n",
              "      <td>12.1265</td>\n",
              "    </tr>\n",
              "    <tr>\n",
              "      <th>radialHighwaysAccess</th>\n",
              "      <td>506.0</td>\n",
              "      <td>9.549407</td>\n",
              "      <td>8.707259</td>\n",
              "      <td>1.00000</td>\n",
              "      <td>4.000000</td>\n",
              "      <td>5.00000</td>\n",
              "      <td>24.000000</td>\n",
              "      <td>24.0000</td>\n",
              "    </tr>\n",
              "    <tr>\n",
              "      <th>propTaxRate_per10K</th>\n",
              "      <td>506.0</td>\n",
              "      <td>408.237154</td>\n",
              "      <td>168.537116</td>\n",
              "      <td>187.00000</td>\n",
              "      <td>279.000000</td>\n",
              "      <td>330.00000</td>\n",
              "      <td>666.000000</td>\n",
              "      <td>711.0000</td>\n",
              "    </tr>\n",
              "    <tr>\n",
              "      <th>pupilTeacherRatio</th>\n",
              "      <td>506.0</td>\n",
              "      <td>18.455534</td>\n",
              "      <td>2.164946</td>\n",
              "      <td>12.60000</td>\n",
              "      <td>17.400000</td>\n",
              "      <td>19.05000</td>\n",
              "      <td>20.200000</td>\n",
              "      <td>22.0000</td>\n",
              "    </tr>\n",
              "    <tr>\n",
              "      <th>pctLowerStatus</th>\n",
              "      <td>506.0</td>\n",
              "      <td>12.653063</td>\n",
              "      <td>7.141062</td>\n",
              "      <td>1.73000</td>\n",
              "      <td>6.950000</td>\n",
              "      <td>11.36000</td>\n",
              "      <td>16.955000</td>\n",
              "      <td>37.9700</td>\n",
              "    </tr>\n",
              "    <tr>\n",
              "      <th>medianValue_Ks</th>\n",
              "      <td>506.0</td>\n",
              "      <td>22.532806</td>\n",
              "      <td>9.197104</td>\n",
              "      <td>5.00000</td>\n",
              "      <td>17.025000</td>\n",
              "      <td>21.20000</td>\n",
              "      <td>25.000000</td>\n",
              "      <td>50.0000</td>\n",
              "    </tr>\n",
              "  </tbody>\n",
              "</table>\n",
              "</div>"
            ],
            "text/plain": [
              "                        count        mean  ...         75%       max\n",
              "crimeRatePerCapita      506.0    3.613524  ...    3.677082   88.9762\n",
              "landOver25K_sqft        506.0   11.363636  ...   12.500000  100.0000\n",
              "non-retailLandProptn    506.0   11.136779  ...   18.100000   27.7400\n",
              "riverDummy              506.0    0.069170  ...    0.000000    1.0000\n",
              "nitrixOxide_pp10m       506.0    0.554695  ...    0.624000    0.8710\n",
              "AvgNo.RoomsPerDwelling  506.0    6.284634  ...    6.623500    8.7800\n",
              "ProptnOwnerOccupied     506.0   68.574901  ...   94.075000  100.0000\n",
              "weightedDist            506.0    3.795043  ...    5.188425   12.1265\n",
              "radialHighwaysAccess    506.0    9.549407  ...   24.000000   24.0000\n",
              "propTaxRate_per10K      506.0  408.237154  ...  666.000000  711.0000\n",
              "pupilTeacherRatio       506.0   18.455534  ...   20.200000   22.0000\n",
              "pctLowerStatus          506.0   12.653063  ...   16.955000   37.9700\n",
              "medianValue_Ks          506.0   22.532806  ...   25.000000   50.0000\n",
              "\n",
              "[13 rows x 8 columns]"
            ]
          },
          "metadata": {
            "tags": []
          },
          "execution_count": 9
        }
      ]
    },
    {
      "cell_type": "code",
      "metadata": {
        "id": "sL2PqDMNUeHX",
        "colab_type": "code",
        "colab": {}
      },
      "source": [
        "X = renamedBostonData.drop('crimeRatePerCapita', axis = 1)\n",
        "y = renamedBostonData[['crimeRatePerCapita']]\n",
        "seed = 10\n",
        "test_data_size = 0.3\n",
        "X_train, X_test, y_train, y_test = train_test_split(X, y, test_size = test_data_size, random_state = seed)\n",
        "train_data = pd.concat([X_train, y_train], axis = 1)\n",
        "test_data = pd.concat([X_test, y_test], axis = 1)"
      ],
      "execution_count": 0,
      "outputs": []
    },
    {
      "cell_type": "code",
      "metadata": {
        "id": "5v0XkpMFU3cV",
        "colab_type": "code",
        "colab": {
          "base_uri": "https://localhost:8080/",
          "height": 577
        },
        "outputId": "3beacad3-635e-4ada-9697-bf00bd895027"
      },
      "source": [
        "corrMatrix = train_data.corr(method = 'pearson')\n",
        "xnames=list(train_data.columns)\n",
        "ynames=list(train_data.columns)\n",
        "plot_corr(corrMatrix, xnames=xnames, ynames=ynames,\\\n",
        "          title=None, normcolor=False, cmap='RdYlBu_r')"
      ],
      "execution_count": 11,
      "outputs": [
        {
          "output_type": "execute_result",
          "data": {
            "image/png": "[encoded data removed]",
            "text/plain": [
              "<Figure size 432x288 with 2 Axes>"
            ]
          },
          "metadata": {
            "tags": []
          },
          "execution_count": 11
        },
        {
          "output_type": "display_data",
          "data": {
            "image/png": "[encoded data removed]",
            "text/plain": [
              "<Figure size 432x288 with 2 Axes>"
            ]
          },
          "metadata": {
            "tags": [],
            "needs_background": "light"
          }
        }
      ]
    },
    {
      "cell_type": "code",
      "metadata": {
        "id": "xDVP0Ri6WZmw",
        "colab_type": "code",
        "colab": {
          "base_uri": "https://localhost:8080/",
          "height": 378
        },
        "outputId": "8dd585d1-a3b6-4023-bd71-2c32a394a04e"
      },
      "source": [
        "fig, ax = plt.subplots(figsize=(10, 6))"
      ],
      "execution_count": 12,
      "outputs": [
        {
          "output_type": "display_data",
          "data": {
            "image/png": "[encoded data removed]",
            "text/plain": [
              "<Figure size 720x432 with 1 Axes>"
            ]
          },
          "metadata": {
            "tags": [],
            "needs_background": "light"
          }
        }
      ]
    },
    {
      "cell_type": "code",
      "metadata": {
        "id": "vySethmYWeXX",
        "colab_type": "code",
        "colab": {
          "base_uri": "https://localhost:8080/",
          "height": 34
        },
        "outputId": "dd9fcbdb-fa8e-4567-a0e5-592fbd7b211b"
      },
      "source": [
        "sns.regplot(x='medianValue_Ks', y='crimeRatePerCapita', ci=None, data=train_data, ax=ax, color='k', scatter_kws={\"s\": 20,\"color\": \"royalblue\", \"alpha\":1})"
      ],
      "execution_count": 14,
      "outputs": [
        {
          "output_type": "execute_result",
          "data": {
            "text/plain": [
              "<matplotlib.axes._subplots.AxesSubplot at 0x7f4bb79411d0>"
            ]
          },
          "metadata": {
            "tags": []
          },
          "execution_count": 14
        }
      ]
    },
    {
      "cell_type": "code",
      "metadata": {
        "id": "el4VHWQxWknX",
        "colab_type": "code",
        "colab": {
          "base_uri": "https://localhost:8080/",
          "height": 441
        },
        "outputId": "a879fa12-a48d-4e9e-ca36-7991216994ab"
      },
      "source": [
        "fig, ax = plt.subplots(figsize=(10, 6))\n",
        "sns.regplot(x='medianValue_Ks', y='crimeRatePerCapita', ci=None, data=train_data, ax=ax, color='k', scatter_kws={\"s\": 20,\"color\": \"royalblue\", \"alpha\":1})\n",
        "ax.set_ylabel('Crime rate per Capita', fontsize=15, fontname='DejaVu Sans')\n",
        "ax.set_xlabel(\"Median value of owner-occupied homes in $1000's\", fontsize=15, fontname='DejaVu Sans')\n",
        "ax.set_xlim(left=None, right=None)\n",
        "ax.set_ylim(bottom=None, top=30)\n",
        "ax.tick_params(axis='both', which='major', labelsize=12)\n",
        "fig.tight_layout()"
      ],
      "execution_count": 19,
      "outputs": [
        {
          "output_type": "display_data",
          "data": {
            "image/png": "[encoded data removed]",
            "text/plain": [
              "<Figure size 720x432 with 1 Axes>"
            ]
          },
          "metadata": {
            "tags": [],
            "needs_background": "light"
          }
        }
      ]
    },
    {
      "cell_type": "code",
      "metadata": {
        "id": "MYprW5HBXSdU",
        "colab_type": "code",
        "colab": {
          "base_uri": "https://localhost:8080/",
          "height": 441
        },
        "outputId": "9c8d3e1c-fb00-4ccb-b0c3-8e38a6d73975"
      },
      "source": [
        "fig, ax = plt.subplots(figsize=(10, 6))\n",
        "y = np.log(train_data['crimeRatePerCapita'])\n",
        "sns.regplot(x='medianValue_Ks', y=y, ci=95, data=train_data, ax=ax, color='k', scatter_kws={\"s\": 20,\"color\": \"royalblue\", \"alpha\":1})\n",
        "ax.set_ylabel('log of Crime rate per Capita', fontsize=15, fontname='DejaVu Sans')\n",
        "ax.set_xlabel(\"Median value of owner-occupied homes in $1000's\", fontsize=15, fontname='DejaVu Sans')\n",
        "ax.set_xlim(left=None, right=None)\n",
        "ax.set_ylim(bottom=None, top=None)\n",
        "ax.tick_params(axis='both', which='major', labelsize=12)\n",
        "fig.tight_layout()"
      ],
      "execution_count": 23,
      "outputs": [
        {
          "output_type": "display_data",
          "data": {
            "image/png": "[encoded data removed]",
            "text/plain": [
              "<Figure size 720x432 with 1 Axes>"
            ]
          },
          "metadata": {
            "tags": [],
            "needs_background": "light"
          }
        }
      ]
    },
    {
      "cell_type": "code",
      "metadata": {
        "id": "XBm9qM0kXrrh",
        "colab_type": "code",
        "colab": {}
      },
      "source": [
        "import pandas as pd\n",
        "import statsmodels.formula.api as smf\n",
        "from sklearn.model_selection import train_test_split"
      ],
      "execution_count": 0,
      "outputs": []
    },
    {
      "cell_type": "code",
      "metadata": {
        "id": "avE8guskXtkB",
        "colab_type": "code",
        "colab": {}
      },
      "source": [
        "linearModel = smf.ols(formula='crimeRatePerCapita ~ medianValue_Ks', data=train_data)"
      ],
      "execution_count": 0,
      "outputs": []
    },
    {
      "cell_type": "code",
      "metadata": {
        "id": "WHm3NLpQXxaY",
        "colab_type": "code",
        "colab": {}
      },
      "source": [
        "linearModelResult = linearModel.fit()"
      ],
      "execution_count": 0,
      "outputs": []
    },
    {
      "cell_type": "code",
      "metadata": {
        "id": "KbaqDPQKXzXw",
        "colab_type": "code",
        "colab": {
          "base_uri": "https://localhost:8080/",
          "height": 442
        },
        "outputId": "3f091261-b02e-4775-e3f0-3af4b846ceaa"
      },
      "source": [
        "print(linearModelResult.summary())"
      ],
      "execution_count": 27,
      "outputs": [
        {
          "output_type": "stream",
          "text": [
            "                            OLS Regression Results                            \n",
            "==============================================================================\n",
            "Dep. Variable:     crimeRatePerCapita   R-squared:                       0.144\n",
            "Model:                            OLS   Adj. R-squared:                  0.141\n",
            "Method:                 Least Squares   F-statistic:                     59.02\n",
            "Date:                Tue, 26 May 2020   Prob (F-statistic):           1.56e-13\n",
            "Time:                        09:45:21   Log-Likelihood:                -1217.4\n",
            "No. Observations:                 354   AIC:                             2439.\n",
            "Df Residuals:                     352   BIC:                             2447.\n",
            "Df Model:                           1                                         \n",
            "Covariance Type:            nonrobust                                         \n",
            "==================================================================================\n",
            "                     coef    std err          t      P>|t|      [0.025      0.975]\n",
            "----------------------------------------------------------------------------------\n",
            "Intercept         11.2094      1.079     10.386      0.000       9.087      13.332\n",
            "medianValue_Ks    -0.3502      0.046     -7.683      0.000      -0.440      -0.261\n",
            "==============================================================================\n",
            "Omnibus:                      447.354   Durbin-Watson:                   1.928\n",
            "Prob(Omnibus):                  0.000   Jarque-Bera (JB):            39791.431\n",
            "Skew:                           5.897   Prob(JB):                         0.00\n",
            "Kurtosis:                      53.583   Cond. No.                         63.7\n",
            "==============================================================================\n",
            "\n",
            "Warnings:\n",
            "[1] Standard Errors assume that the covariance matrix of the errors is correctly specified.\n"
          ],
          "name": "stdout"
        }
      ]
    },
    {
      "cell_type": "code",
      "metadata": {
        "id": "JLLRXWK9YGq4",
        "colab_type": "code",
        "colab": {}
      },
      "source": [
        "import statsmodels.formula.api as smf\n",
        "import pandas as pd\n",
        "from sklearn.model_selection import train_test_split"
      ],
      "execution_count": 0,
      "outputs": []
    },
    {
      "cell_type": "code",
      "metadata": {
        "id": "j1ZtUMv4YI7P",
        "colab_type": "code",
        "colab": {}
      },
      "source": [
        "multiLinearModel = smf.ols(formula='crimeRatePerCapita ~ pctLowerStatus + radialHighwaysAccess + medianValue_Ks + nitrixOxide_pp10m', data=train_data)"
      ],
      "execution_count": 0,
      "outputs": []
    },
    {
      "cell_type": "code",
      "metadata": {
        "id": "0UdlexSNYM2n",
        "colab_type": "code",
        "colab": {}
      },
      "source": [
        "multiLinearModResult = multiLinearModel.fit()"
      ],
      "execution_count": 0,
      "outputs": []
    },
    {
      "cell_type": "code",
      "metadata": {
        "id": "Y4rng_WTYPAY",
        "colab_type": "code",
        "colab": {
          "base_uri": "https://localhost:8080/",
          "height": 493
        },
        "outputId": "241d18ff-1dd9-4430-c86b-25b1c7a932fa"
      },
      "source": [
        "print(multiLinearModResult.summary())"
      ],
      "execution_count": 31,
      "outputs": [
        {
          "output_type": "stream",
          "text": [
            "                            OLS Regression Results                            \n",
            "==============================================================================\n",
            "Dep. Variable:     crimeRatePerCapita   R-squared:                       0.398\n",
            "Model:                            OLS   Adj. R-squared:                  0.391\n",
            "Method:                 Least Squares   F-statistic:                     57.77\n",
            "Date:                Tue, 26 May 2020   Prob (F-statistic):           2.19e-37\n",
            "Time:                        09:47:16   Log-Likelihood:                -1154.9\n",
            "No. Observations:                 354   AIC:                             2320.\n",
            "Df Residuals:                     349   BIC:                             2339.\n",
            "Df Model:                           4                                         \n",
            "Covariance Type:            nonrobust                                         \n",
            "========================================================================================\n",
            "                           coef    std err          t      P>|t|      [0.025      0.975]\n",
            "----------------------------------------------------------------------------------------\n",
            "Intercept                0.8912      2.670      0.334      0.739      -4.360       6.142\n",
            "pctLowerStatus           0.1028      0.080      1.277      0.202      -0.055       0.261\n",
            "radialHighwaysAccess     0.4948      0.048     10.216      0.000       0.400       0.590\n",
            "medianValue_Ks          -0.1103      0.058     -1.916      0.056      -0.224       0.003\n",
            "nitrixOxide_pp10m       -2.1039      4.131     -0.509      0.611     -10.229       6.021\n",
            "==============================================================================\n",
            "Omnibus:                      534.476   Durbin-Watson:                   1.999\n",
            "Prob(Omnibus):                  0.000   Jarque-Bera (JB):           100129.789\n",
            "Skew:                           7.866   Prob(JB):                         0.00\n",
            "Kurtosis:                      83.876   Cond. No.                         374.\n",
            "==============================================================================\n",
            "\n",
            "Warnings:\n",
            "[1] Standard Errors assume that the covariance matrix of the errors is correctly specified.\n"
          ],
          "name": "stdout"
        }
      ]
    }
  ]
}